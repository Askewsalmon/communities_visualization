{
 "cells": [
  {
   "cell_type": "code",
   "execution_count": 6,
   "metadata": {},
   "outputs": [],
   "source": [
    "import igraph as ig  \n",
    "import pandas as pd\n",
    "import json"
   ]
  },
  {
   "cell_type": "code",
   "execution_count": 3,
   "metadata": {},
   "outputs": [],
   "source": [
    "nodes_path = \"../file_data/fb-pages-food.nodes\"\n",
    "edges_path = \"../file_data/fb-pages-food.edges\"\n",
    "\n",
    "nodes_df = pd.read_csv(\n",
    "    nodes_path, sep=\",\", header=None, names=[\"node\", \"name\", \"new_id\"], skiprows=1\n",
    ")\n",
    "edges_df = pd.read_csv(edges_path, sep=\",\", header=None, names=[\"source\", \"target\"])\n",
    "\n",
    "nodes_df[\"new_id\"] = nodes_df[\"new_id\"].astype(str)\n",
    "edges_df[\"source\"] = edges_df[\"source\"].astype(str)\n",
    "edges_df[\"target\"] = edges_df[\"target\"].astype(str)"
   ]
  },
  {
   "cell_type": "code",
   "execution_count": 4,
   "metadata": {},
   "outputs": [],
   "source": [
    "g = ig.Graph()\n",
    "g.add_vertices(nodes_df[\"new_id\"].tolist())\n",
    "g.add_edges(edges_df[[\"source\", \"target\"]].values.tolist())\n",
    "g.vs[\"name\"] = nodes_df[\"name\"].tolist()"
   ]
  },
  {
   "cell_type": "code",
   "execution_count": 5,
   "metadata": {},
   "outputs": [],
   "source": [
    "communities = g.community_edge_betweenness()\n",
    "communities = communities.as_clustering()"
   ]
  },
  {
   "cell_type": "code",
   "execution_count": 7,
   "metadata": {},
   "outputs": [],
   "source": [
    "output_data = {\n",
    "    \"graph\": {\n",
    "        \"nodes\": [{\"id\": node.index, \"name\": node[\"name\"]} for node in g.vs],\n",
    "        \"edges\": [{\"source\": edge.source, \"target\": edge.target} for edge in g.es],\n",
    "    },\n",
    "    \"communities\": [community for community in communities]\n",
    "}\n",
    "\n",
    "with open(\"../graph_data/graph_data_communities.json\", \"w\") as f:\n",
    "    json.dump(output_data, f, indent=4)"
   ]
  }
 ],
 "metadata": {
  "kernelspec": {
   "display_name": "Python 3",
   "language": "python",
   "name": "python3"
  },
  "language_info": {
   "codemirror_mode": {
    "name": "ipython",
    "version": 3
   },
   "file_extension": ".py",
   "mimetype": "text/x-python",
   "name": "python",
   "nbconvert_exporter": "python",
   "pygments_lexer": "ipython3",
   "version": "3.12.2"
  }
 },
 "nbformat": 4,
 "nbformat_minor": 2
}
