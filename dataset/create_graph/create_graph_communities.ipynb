{
 "cells": [
  {
   "cell_type": "code",
   "execution_count": 11,
   "metadata": {},
   "outputs": [],
   "source": [
    "import igraph as ig  \n",
    "import pandas as pd\n",
    "import json\n",
    "import random"
   ]
  },
  {
   "cell_type": "code",
   "execution_count": 12,
   "metadata": {},
   "outputs": [],
   "source": [
    "nodes_path = \"../file_data/fb-pages-food.nodes\"\n",
    "edges_path = \"../file_data/fb-pages-food.edges\"\n",
    "\n",
    "nodes_df = pd.read_csv(\n",
    "    nodes_path, sep=\",\", header=None, names=[\"node\", \"name\", \"new_id\"], skiprows=1\n",
    ")\n",
    "edges_df = pd.read_csv(edges_path, sep=\",\", header=None, names=[\"source\", \"target\"])\n",
    "\n",
    "nodes_df[\"new_id\"] = nodes_df[\"new_id\"].astype(str)\n",
    "edges_df[\"source\"] = edges_df[\"source\"].astype(str)\n",
    "edges_df[\"target\"] = edges_df[\"target\"].astype(str)"
   ]
  },
  {
   "cell_type": "code",
   "execution_count": 13,
   "metadata": {},
   "outputs": [],
   "source": [
    "g = ig.Graph()\n",
    "g.add_vertices(nodes_df[\"new_id\"].tolist())\n",
    "g.add_edges(edges_df[[\"source\", \"target\"]].values.tolist())\n",
    "g.vs[\"name\"] = nodes_df[\"name\"].tolist()"
   ]
  },
  {
   "cell_type": "code",
   "execution_count": 14,
   "metadata": {},
   "outputs": [],
   "source": [
    "communities = g.community_edge_betweenness()\n",
    "communities = communities.as_clustering()"
   ]
  },
  {
   "cell_type": "code",
   "execution_count": 15,
   "metadata": {},
   "outputs": [],
   "source": [
    "def generate_community_names(num_cliques):\n",
    "    prefixes = [\n",
    "        \"Neo\",\n",
    "        \"Alt\",\n",
    "        \"Hyper\",\n",
    "        \"Meta\",\n",
    "        \"Quantum\",\n",
    "        \"Terra\",\n",
    "        \"Cyber\",\n",
    "        \"Omega\",\n",
    "        \"Solar\",\n",
    "        \"Astra\",\n",
    "    ]\n",
    "    roots = [\n",
    "        \"Gen\",\n",
    "        \"Net\",\n",
    "        \"Sphere\",\n",
    "        \"Cluster\",\n",
    "        \"Link\",\n",
    "        \"Wave\",\n",
    "        \"Flow\",\n",
    "        \"Pulse\",\n",
    "        \"Code\",\n",
    "        \"Echo\",\n",
    "    ]\n",
    "    suffixes = [\"ium\", \"on\", \"os\", \"ix\", \"ia\", \"or\", \"an\", \"is\", \"us\", \"er\"]\n",
    "\n",
    "    community_names = set()\n",
    "\n",
    "    while len(community_names) < num_cliques:\n",
    "        name = (\n",
    "            f\"{random.choice(prefixes)}{random.choice(roots)}{random.choice(suffixes)}\"\n",
    "        )\n",
    "        name += f\" {random.randint(1000, 9999)}\"\n",
    "        if name not in community_names:\n",
    "            community_names.add(name)\n",
    "    print(\"nomi generati\")\n",
    "    return list(community_names)"
   ]
  },
  {
   "cell_type": "code",
   "execution_count": 16,
   "metadata": {},
   "outputs": [],
   "source": [
    "def assign_community_names_to_graph(graph, communities):\n",
    "    num_communities = len(communities)\n",
    "    community_names = generate_community_names(num_communities)\n",
    "    updated_communities = []\n",
    "\n",
    "    if \"aggregation\" not in graph.vs.attributes():\n",
    "        graph.vs[\"aggregation\"] = [[] for _ in range(graph.vcount())]\n",
    "\n",
    "    if \"community_name\" not in graph.vs.attributes():\n",
    "        graph.vs[\"community_name\"] = [None for _ in range(graph.vcount())]\n",
    "\n",
    "    for i, community in enumerate(communities):\n",
    "        community_name = community_names[i]\n",
    "        updated_communities.append({\"name\": f\"{community_name}\", \"nodes\": community})\n",
    "        for node in community:\n",
    "            graph.vs[node][\"aggregation\"].append(f\"{community_name}\")\n",
    "            if graph.vs[node][\"community_name\"] is None:\n",
    "                graph.vs[node][\"community_name\"] = community_name\n",
    "    if \"community_name\" not in graph.es.attributes():\n",
    "        graph.es[\"community_name\"] = [None] * graph.ecount()\n",
    "    for edge in graph.es:\n",
    "        source_node = edge.source  \n",
    "        graph.es[edge.index][\"community_name\"] = graph.vs[source_node][\"community_name\"]\n",
    "\n",
    "    return updated_communities"
   ]
  },
  {
   "cell_type": "code",
   "execution_count": 17,
   "metadata": {},
   "outputs": [
    {
     "name": "stdout",
     "output_type": "stream",
     "text": [
      "nomi generati\n"
     ]
    }
   ],
   "source": [
    "updated_communities = assign_community_names_to_graph(g, communities)\n"
   ]
  },
  {
   "cell_type": "code",
   "execution_count": 48,
   "metadata": {},
   "outputs": [],
   "source": [
    "def create_community_graph(graph, communities):\n",
    "    communityGraph = ig.Graph()\n",
    "    link_map = {}  \n",
    "    for community in communities:\n",
    "        community_name = community[\"name\"]\n",
    "        children = [v.index for v in graph.vs if v[\"community_name\"] == community_name]\n",
    "        communityGraph.add_vertex(\n",
    "            name=community_name,\n",
    "            id=community_name,\n",
    "            children=children,\n",
    "        )\n",
    "    for edge in graph.es:\n",
    "        source_community = graph.vs[edge.source][\"community_name\"]\n",
    "        target_community = graph.vs[edge.target][\"community_name\"]\n",
    "        if source_community != target_community:\n",
    "            link_key = f\"{source_community}-{target_community}\"\n",
    "            reverse_link_key = f\"{target_community}-{source_community}\"\n",
    "            if link_key not in link_map and reverse_link_key not in link_map:\n",
    "                communityGraph.add_edge(\n",
    "                    source_community, target_community, id=link_key\n",
    "                )\n",
    "                link_map[link_key] = True\n",
    "\n",
    "    return communityGraph"
   ]
  },
  {
   "cell_type": "code",
   "execution_count": 51,
   "metadata": {},
   "outputs": [
    {
     "name": "stdout",
     "output_type": "stream",
     "text": [
      "MetaWaveer 2757-CyberLinkos 2267\n",
      "SolarNeton 8333-CyberLinkos 2267\n",
      "TerraLinkis 4537-AstraLinkos 9217\n",
      "NeoCodeor 5004-CyberLinkos 2267\n",
      "NeoNeton 1643-QuantumNetus 9579\n",
      "CyberLinkos 2267-HyperClusterer 3334\n",
      "CyberLinkos 2267-SolarPulseis 9371\n",
      "CyberLinkos 2267-SolarLinker 5750\n",
      "AstraLinkos 9217-SolarPulseis 9371\n",
      "SolarPulseis 9371-NeoEchoia 7504\n",
      "AltLinkis 7967-CyberLinkos 2267\n",
      "HyperCodeia 7518-AltLinkis 7967\n",
      "SolarLinker 5750-AstraCodeis 5274\n",
      "MetaClusteros 8551-NeoNeton 1643\n",
      "CyberLinkos 2267-NeoNeton 1643\n",
      "HyperCodeia 7518-CyberLinkos 2267\n",
      "CyberLinkos 2267-AstraLinkos 9217\n",
      "SolarLinker 5750-AstraLinkos 9217\n",
      "CyberLinkos 2267-MetaClusteros 8551\n",
      "QuantumPulsean 2090-MetaClusteros 8551\n",
      "AstraPulseor 8055-CyberLinkos 2267\n",
      "NeoNeton 1643-SolarSphereer 9735\n",
      "CyberLinkos 2267-AltCodeos 4790\n",
      "AstraEchous 3755-CyberLinkos 2267\n",
      "CyberLinkos 2267-OmegaWaveor 9574\n",
      "CyberPulseos 1403-CyberLinkos 2267\n",
      "SolarLinker 5750-TerraSphereus 9666\n",
      "CyberSpherean 6391-CyberLinkos 2267\n",
      "CyberLinkos 2267-TerraLinkis 4537\n",
      "AstraEchous 3755-QuantumPulsean 2090\n",
      "SolarLinker 5750-CyberEchoium 4310\n",
      "QuantumNetus 9579-SolarPulseis 9371\n",
      "MetaWaveon 6887-SolarPulseis 9371\n",
      "NeoNeton 1643-SolarPulseis 9371\n",
      "QuantumNetus 9579-SolarClusterus 1210\n",
      "SolarLinker 5750-AltLinkis 7967\n",
      "MetaClusteros 8551-AstraLinkos 9217\n",
      "QuantumPulsean 2090-AltLinkis 7967\n",
      "SolarLinker 5750-SolarNeton 2298\n",
      "QuantumClusterix 7069-CyberLinkos 2267\n",
      "MetaClusteros 8551-SolarLinker 5750\n",
      "SolarFlower 7796-CyberLinkos 2267\n",
      "CyberLinkos 2267-QuantumPulsean 2090\n",
      "NeoNeton 1643-MetaWaveon 6887\n",
      "AstraCodeis 5274-CyberLinkos 2267\n",
      "MetaWaveer 2757-SolarPulseis 9371\n",
      "MetaClusteros 8551-TerraLinkis 4537\n",
      "AstraLinkos 9217-AstraPulseor 8055\n",
      "TerraLinkis 4537-SolarLinker 5750\n",
      "NeoEchoia 7504-CyberLinkos 2267\n",
      "CyberPulseos 1403-QuantumPulsean 2090\n",
      "MetaFlowon 7391-CyberLinkos 2267\n",
      "CyberLinkos 2267-TerraFlowan 6429\n",
      "CyberLinkium 3656-AstraLinkos 9217\n",
      "NeoNeton 1643-SolarLinker 5750\n",
      "SolarNeton 8333-CyberPulseos 1403\n",
      "CyberPulseos 1403-TerraLinkis 4537\n",
      "HyperEchoix 1657-NeoNeton 1643\n",
      "HyperCodeia 7518-QuantumPulsean 2090\n",
      "CyberLinkos 2267-MetaPulsean 2637\n",
      "NeoEchoia 7504-OmegaFlowia 5034\n",
      "OmegaFlowia 5034-CyberLinkos 2267\n",
      "CyberLinkos 2267-CyberLinkium 3656\n",
      "SolarLinker 5750-CyberPulseium 6285\n"
     ]
    }
   ],
   "source": [
    "community_graph = create_community_graph(g, updated_communities)\n",
    "for edge in community_graph.es:\n",
    "    print(edge['id'])"
   ]
  },
  {
   "cell_type": "code",
   "execution_count": 52,
   "metadata": {},
   "outputs": [],
   "source": [
    "output_data = {\n",
    "    \"graph\": {\n",
    "        \"nodes\": [\n",
    "            {\n",
    "                \"id\": node.index,\n",
    "                \"name\": node[\"name\"],\n",
    "                \"community_name\": node[\"community_name\"],\n",
    "                \"aggregation\": node[\"aggregation\"],\n",
    "            }\n",
    "            for node in g.vs\n",
    "        ],\n",
    "        \"edges\": [{\"source\": edge.source, \"target\": edge.target, \"community_name\": edge[\"community_name\"]} for edge in g.es],\n",
    "    },\n",
    "    \"communities\": [community for community in updated_communities],\n",
    "    \"community_graph\": {\n",
    "        \"nodes\": [\n",
    "            {\n",
    "                \"id\": node[\"id\"],\n",
    "                \"name\": node[\"name\"],\n",
    "                \"children\": node[\"children\"],\n",
    "            }\n",
    "            for node in community_graph.vs\n",
    "        ],\n",
    "        \"edges\": [{\"source\": edge.source, \"target\": edge.target} for edge in community_graph.es],\n",
    "    }\n",
    "}\n",
    "\n",
    "with open(\"../graph_data/graph_data_communities.json\", \"w\") as f:\n",
    "    json.dump(output_data, f, indent=4)"
   ]
  }
 ],
 "metadata": {
  "kernelspec": {
   "display_name": "Python 3",
   "language": "python",
   "name": "python3"
  },
  "language_info": {
   "codemirror_mode": {
    "name": "ipython",
    "version": 3
   },
   "file_extension": ".py",
   "mimetype": "text/x-python",
   "name": "python",
   "nbconvert_exporter": "python",
   "pygments_lexer": "ipython3",
   "version": "3.12.2"
  }
 },
 "nbformat": 4,
 "nbformat_minor": 2
}
