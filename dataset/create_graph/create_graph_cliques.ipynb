{
 "cells": [
  {
   "cell_type": "code",
   "execution_count": 6,
   "metadata": {},
   "outputs": [],
   "source": [
    "import pandas as pd\n",
    "import networkx as nx\n",
    "from networkx.readwrite import json_graph\n",
    "import json"
   ]
  },
  {
   "cell_type": "code",
   "execution_count": 7,
   "metadata": {},
   "outputs": [],
   "source": [
    "nodes_path = \"../file_data/fb-pages-food.nodes\"\n",
    "edges_path= \"../file_data/fb-pages-food.edges\"\n",
    "\n",
    "nodes_df = pd.read_csv(\n",
    "    nodes_path, sep=\",\", header=None, names=[\"node\", \"name\", \"new_id\"], skiprows=1\n",
    ")\n",
    "edges_df = pd.read_csv(edges_path, sep=\",\", header=None, names=[\"source\", \"target\"])\n",
    "\n",
    "nodes_df[\"new_id\"] = nodes_df[\"new_id\"].astype(str)\n",
    "edges_df[\"source\"] = edges_df[\"source\"].astype(str)\n",
    "edges_df[\"target\"] = edges_df[\"target\"].astype(str)"
   ]
  },
  {
   "cell_type": "code",
   "execution_count": 8,
   "metadata": {},
   "outputs": [],
   "source": [
    "G = nx.Graph()\n",
    "\n",
    "for index, row in nodes_df.iterrows():\n",
    "    G.add_node(row[\"new_id\"], name=row[\"name\"], original_id=row[\"node\"])\n",
    "\n",
    "\n",
    "for index, row in edges_df.iterrows():\n",
    "    G.add_edge(row[\"source\"], row[\"target\"])"
   ]
  },
  {
   "cell_type": "code",
   "execution_count": 9,
   "metadata": {},
   "outputs": [],
   "source": [
    "max_cliques = list(nx.find_cliques(G))"
   ]
  },
  {
   "cell_type": "code",
   "execution_count": 10,
   "metadata": {},
   "outputs": [],
   "source": [
    "graph_data = json_graph.node_link_data(G)\n",
    "\n",
    "output_data= {\n",
    "    \"graph_data\": graph_data,\n",
    "    \"max_cliques\": max_cliques\n",
    "}"
   ]
  },
  {
   "cell_type": "code",
   "execution_count": 11,
   "metadata": {},
   "outputs": [],
   "source": [
    "with open(\"../graph_data/graph_data_cliques.json\", \"w\") as f:\n",
    "    json.dump(output_data, f, indent=4)"
   ]
  }
 ],
 "metadata": {
  "kernelspec": {
   "display_name": "Python 3",
   "language": "python",
   "name": "python3"
  },
  "language_info": {
   "codemirror_mode": {
    "name": "ipython",
    "version": 3
   },
   "file_extension": ".py",
   "mimetype": "text/x-python",
   "name": "python",
   "nbconvert_exporter": "python",
   "pygments_lexer": "ipython3",
   "version": "3.12.2"
  }
 },
 "nbformat": 4,
 "nbformat_minor": 2
}
